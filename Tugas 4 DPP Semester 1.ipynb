{
 "cells": [
  {
   "cell_type": "markdown",
   "metadata": {},
   "source": [
    "<h1>Praktikum Variabel & Tipe Data</h1>\n",
    "\n",
    "<h3>Soal 1</h3>\n",
    "Kiki belanja ke alf$$a M$a$r$t membeli 3 hepitos, 2 silperkuin, telor 2kg, beras 5kg, isi ulang akua galon seharga Rp 13.000. Harga hepitos yaitu Rp 15.000, telor Rp 13.000/kg, silperkuin Rp 21.000 beras kemasan 2.5kg seharga Rp 20.000. Toko tersebut memberikan discount 5%, ketika customer membeli makanan lebih dari 3 jenis. Berapakah total bayar belanjaan dari Kiki?\n"
   ]
  },
  {
   "cell_type": "markdown",
   "metadata": {},
   "source": [
    "<h1>Analyze Here</h1>\n",
    "....."
   ]
  },
  {
   "cell_type": "code",
   "execution_count": 2,
   "metadata": {},
   "outputs": [
    {
     "name": "stdout",
     "output_type": "stream",
     "text": [
      "---------------------------------\n",
      "--  List Produk Pembelanjaan  --\n",
      "hepitos 45000\n",
      "silverqueen 42000\n",
      "telor 26000\n",
      "beras 40000\n",
      "galon 13000\n",
      "---------------------------------\n",
      "Total Price: 157700\n",
      "Total Discount 8300\n"
     ]
    }
   ],
   "source": [
    "#Code here\n",
    "\n",
    "listTransaction = {\n",
    "    \"hepitos\" : 15000 * 3,\n",
    "    \"silverqueen\" : 21000 * 2,\n",
    "    \"telor\" : 13000 * 2,\n",
    "    \"beras\" : 20000 * 2,\n",
    "    \"galon\" : 13000\n",
    "}\n",
    "\n",
    "totalPrice = 0\n",
    "disc = 0\n",
    "\n",
    "print(\"---------------------------------\")\n",
    "print(\"--  List Produk Pembelanjaan  --\")\n",
    "for v in listTransaction:\n",
    "    totalPrice += listTransaction[v]\n",
    "    print(v, listTransaction[v])\n",
    "print(\"---------------------------------\")\n",
    "\n",
    "if len(listTransaction) >= 3:\n",
    "    disc = int((5 * totalPrice) / 100)\n",
    "    totalPrice -= disc\n",
    "\n",
    "print(\"Total Price:\", int(totalPrice))\n",
    "print(\"Total Discount\", int(disc))"
   ]
  },
  {
   "cell_type": "markdown",
   "metadata": {},
   "source": [
    "<h3>Soal 2</h3>\n",
    "Roni menabung pada bulan agustus yaitu setiap tanggal ganjil sejumlah Rp 50.000, setiap tanggal genap sejumlah RP 10.000 dan setiap tanggal kelipatan 5 sejumlah Rp 5.000, Berapakah total tabungan Roni diakhir bulan?"
   ]
  },
  {
   "cell_type": "markdown",
   "metadata": {},
   "source": [
    "<h1>Analyze Here</h1>\n",
    "....."
   ]
  },
  {
   "cell_type": "code",
   "execution_count": 3,
   "metadata": {},
   "outputs": [
    {
     "name": "stdout",
     "output_type": "stream",
     "text": [
      "A -----------------------------------------\n",
      "Jumlah pecahan 20rb = 135\n",
      "Jumlah pecahan 10rb = 135\n",
      "Jumlah pecahan 5rb = 136\n",
      "Jumlah pecahan 2rb = 135\n"
     ]
    }
   ],
   "source": [
    "#Code here\n",
    "## A\n",
    "jumlah_uang = 5000000\n",
    "juml_pecahan_20rb = 0\n",
    "juml_pecahan_10rb = 0\n",
    "juml_pecahan_5rb = 0\n",
    "juml_pecahan_2rb = 0\n",
    "\n",
    "while True:\n",
    "    if jumlah_uang == 0:\n",
    "        break\n",
    "\n",
    "    if jumlah_uang >= 20000:\n",
    "        juml_pecahan_20rb += 1\n",
    "        jumlah_uang -= 20000\n",
    "    if jumlah_uang >= 20000:\n",
    "        juml_pecahan_10rb += 1\n",
    "        jumlah_uang -= 10000\n",
    "    if jumlah_uang >= 5000:\n",
    "        juml_pecahan_5rb += 1\n",
    "        jumlah_uang -= 5000\n",
    "    if jumlah_uang >= 2000:\n",
    "        juml_pecahan_2rb += 1\n",
    "        jumlah_uang -= 2000\n",
    "print(\"A -----------------------------------------\")\n",
    "print(\"Jumlah pecahan 20rb =\", juml_pecahan_20rb)\n",
    "print(\"Jumlah pecahan 10rb =\", juml_pecahan_10rb)\n",
    "print(\"Jumlah pecahan 5rb =\", juml_pecahan_5rb)\n",
    "print(\"Jumlah pecahan 2rb =\", juml_pecahan_2rb)\n",
    "\n",
    "jumlah_uang = 5000000\n",
    "juml_pecahan_20rb = 0\n",
    "juml_pecahan_10rb = 0\n",
    "juml_pecahan_5rb = 0\n",
    "juml_pecahan_2rb = 0"
   ]
  },
  {
   "cell_type": "markdown",
   "metadata": {},
   "source": [
    "<h3>Soal 3</h3>\n",
    "Saat hari raya, Deni ingin menukarkan uang sejumlah Rp 5.000.000 ke pecahan 20rb, 10rb, 5rb, 2rb. berapa jumlahnya yang didapatkan Deni jika 20rb maksimal 100, 10rb maksimal 50.Jika :\n",
    "<ol>\n",
    "    <li>3(a)Semua pecahan harus ada</li>\n",
    "    <li>3(b)Hanya pecahan 20rb, 10rb dan 5rb</li>\n",
    "    <li>3(c)Hanya pecahan 20rb, 10rb dan 2rb</li>\n",
    "</ol>"
   ]
  },
  {
   "cell_type": "markdown",
   "metadata": {},
   "source": [
    "<h1>Analyze Here</h1>\n",
    "....."
   ]
  },
  {
   "cell_type": "code",
   "execution_count": 5,
   "metadata": {},
   "outputs": [
    {
     "name": "stdout",
     "output_type": "stream",
     "text": [
      "A -----------------------------------------\n",
      "Jumlah pecahan 20rb = 135\n",
      "Jumlah pecahan 10rb = 135\n",
      "Jumlah pecahan 5rb = 136\n",
      "Jumlah pecahan 2rb = 135\n",
      "B -----------------------------------------\n",
      "Jumlah pecahan 20rb = 143\n",
      "Jumlah pecahan 10rb = 142\n",
      "Jumlah pecahan 5rb = 144\n",
      "Jumlah pecahan 2rb = 0\n",
      "C -----------------------------------------\n",
      "Jumlah pecahan 20rb = 156\n",
      "Jumlah pecahan 10rb = 156\n",
      "Jumlah pecahan 5rb = 0\n",
      "Jumlah pecahan 2rb = 160\n"
     ]
    }
   ],
   "source": [
    "#Code here\n",
    "## A\n",
    "jumlah_uang = 5000000\n",
    "juml_pecahan_20rb = 0\n",
    "juml_pecahan_10rb = 0\n",
    "juml_pecahan_5rb = 0\n",
    "juml_pecahan_2rb = 0\n",
    "\n",
    "while True:\n",
    "    if jumlah_uang == 0:\n",
    "        break\n",
    "\n",
    "    if jumlah_uang >= 20000:\n",
    "        juml_pecahan_20rb += 1\n",
    "        jumlah_uang -= 20000\n",
    "    if jumlah_uang >= 20000:\n",
    "        juml_pecahan_10rb += 1\n",
    "        jumlah_uang -= 10000\n",
    "    if jumlah_uang >= 5000:\n",
    "        juml_pecahan_5rb += 1\n",
    "        jumlah_uang -= 5000\n",
    "    if jumlah_uang >= 2000:\n",
    "        juml_pecahan_2rb += 1\n",
    "        jumlah_uang -= 2000\n",
    "print(\"A -----------------------------------------\")\n",
    "print(\"Jumlah pecahan 20rb =\", juml_pecahan_20rb)\n",
    "print(\"Jumlah pecahan 10rb =\", juml_pecahan_10rb)\n",
    "print(\"Jumlah pecahan 5rb =\", juml_pecahan_5rb)\n",
    "print(\"Jumlah pecahan 2rb =\", juml_pecahan_2rb)\n",
    "\n",
    "jumlah_uang = 5000000\n",
    "juml_pecahan_20rb = 0\n",
    "juml_pecahan_10rb = 0\n",
    "juml_pecahan_5rb = 0\n",
    "juml_pecahan_2rb = 0\n",
    "\n",
    "## B\n",
    "while True:\n",
    "    if jumlah_uang == 0:\n",
    "        break\n",
    "\n",
    "    if jumlah_uang >= 20000:\n",
    "        juml_pecahan_20rb += 1\n",
    "        jumlah_uang -= 20000\n",
    "    if jumlah_uang >= 20000:\n",
    "        juml_pecahan_10rb += 1\n",
    "        jumlah_uang -= 10000\n",
    "    if jumlah_uang >= 5000:\n",
    "        juml_pecahan_5rb += 1\n",
    "        jumlah_uang -= 5000\n",
    "print(\"B -----------------------------------------\")\n",
    "print(\"Jumlah pecahan 20rb =\", juml_pecahan_20rb)\n",
    "print(\"Jumlah pecahan 10rb =\", juml_pecahan_10rb)\n",
    "print(\"Jumlah pecahan 5rb =\", juml_pecahan_5rb)\n",
    "print(\"Jumlah pecahan 2rb =\", juml_pecahan_2rb)\n",
    "\n",
    "## C\n",
    "jumlah_uang = 5000000\n",
    "juml_pecahan_20rb = 0\n",
    "juml_pecahan_10rb = 0\n",
    "juml_pecahan_5rb = 0\n",
    "juml_pecahan_2rb = 0\n",
    "\n",
    "while True:\n",
    "    if jumlah_uang == 0:\n",
    "        break\n",
    "\n",
    "    if jumlah_uang >= 20000:\n",
    "        juml_pecahan_20rb += 1\n",
    "        jumlah_uang -= 20000\n",
    "    if jumlah_uang >= 20000:\n",
    "        juml_pecahan_10rb += 1\n",
    "        jumlah_uang -= 10000\n",
    "    if jumlah_uang >= 2000:\n",
    "        juml_pecahan_2rb += 1\n",
    "        jumlah_uang -= 2000\n",
    "print(\"C -----------------------------------------\")\n",
    "print(\"Jumlah pecahan 20rb =\", juml_pecahan_20rb)\n",
    "print(\"Jumlah pecahan 10rb =\", juml_pecahan_10rb)\n",
    "print(\"Jumlah pecahan 5rb =\", juml_pecahan_5rb)\n",
    "print(\"Jumlah pecahan 2rb =\", juml_pecahan_2rb)"
   ]
  },
  {
   "cell_type": "markdown",
   "metadata": {},
   "source": [
    "<h3>Soal 4</h3>\n",
    "Berapakah hasil dari (10/23-6+4-(20//3%2)) ?\n",
    "Lakukan analisa perhitungan dari hasil tersebut!\n",
    "Berdasarkan hasil tersebut urutkan operator yang dikerjakan!"
   ]
  },
  {
   "cell_type": "markdown",
   "metadata": {},
   "source": [
    "<h1>Analyze Here</h1>\n",
    "....."
   ]
  },
  {
   "cell_type": "code",
   "execution_count": 6,
   "metadata": {},
   "outputs": [
    {
     "name": "stdout",
     "output_type": "stream",
     "text": [
      "-1.5652173913043477\n",
      "-1.5652173913043477\n"
     ]
    }
   ],
   "source": [
    "#Code here\n",
    "#uraian perhitungan\n",
    "\n",
    "uraian_1= (10/23-6+4)\n",
    "uraian_2= (20//3%2)\n",
    "uraian_total= (uraian_1 - uraian_2)\n",
    "print(uraian_total)\n",
    "print(10/23-6+4-(20//3%2))"
   ]
  },
  {
   "cell_type": "markdown",
   "metadata": {},
   "source": [
    "<h3>Soal 5</h3>\n",
    "Jika terdapat string yaitu \"UFLOPYXTKJACSWRBGQZVDMEHIN\", maka susunlah nama kalian masing-masing dari data tersebut, berdasarkan index dari masing-masing huruf yang ada pada string tersebut!\n"
   ]
  },
  {
   "cell_type": "markdown",
   "metadata": {},
   "source": [
    "<h1>Analyze Here</h1>\n",
    "....."
   ]
  },
  {
   "cell_type": "code",
   "execution_count": 12,
   "metadata": {},
   "outputs": [
    {
     "name": "stdout",
     "output_type": "stream",
     "text": [
      "E K O M N\n"
     ]
    }
   ],
   "source": [
    "chars = \"UFLOPYXTKJACSWRBGQZVDMEHIN\"\n",
    "index_E = 0\n",
    "index_K = 0\n",
    "index_O = 0\n",
    "index_M = 0\n",
    "index_N = 0\n",
    "\n",
    "i = 0\n",
    "for char in chars:\n",
    "    if char == \"E\":\n",
    "        index_E = i\n",
    "    if char == \"K\":\n",
    "        index_K = i\n",
    "    if char == \"O\":\n",
    "        index_O = i\n",
    "    if char == \"M\":\n",
    "        index_M = i\n",
    "    if char == \"N\":\n",
    "        index_N = i\n",
    "    i += 1\n",
    "\n",
    "print(chars[index_E],chars[index_K],chars[index_O],chars[index_M],chars[index_N])"
   ]
  },
  {
   "cell_type": "code",
   "execution_count": null,
   "metadata": {},
   "outputs": [],
   "source": []
  }
 ],
 "metadata": {
  "kernelspec": {
   "display_name": "Python 3 (ipykernel)",
   "language": "python",
   "name": "python3"
  },
  "language_info": {
   "codemirror_mode": {
    "name": "ipython",
    "version": 3
   },
   "file_extension": ".py",
   "mimetype": "text/x-python",
   "name": "python",
   "nbconvert_exporter": "python",
   "pygments_lexer": "ipython3",
   "version": "3.9.12"
  }
 },
 "nbformat": 4,
 "nbformat_minor": 4
}
